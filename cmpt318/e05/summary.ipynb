{
 "cells": [
  {
   "cell_type": "code",
   "execution_count": 1,
   "metadata": {
    "collapsed": true
   },
   "outputs": [],
   "source": [
    "import numpy as np\n",
    "import pandas as pd"
   ]
  },
  {
   "cell_type": "code",
   "execution_count": 2,
   "metadata": {
    "collapsed": true
   },
   "outputs": [],
   "source": [
    "fh = open('summary.txt', 'w')\n",
    "\n",
    "def write_summary_data(): \n",
    "    for i in range(1, 7):\n",
    "        filename = 'data-' + str(i) + '.csv'\n",
    "        summarize_data(filename, \"write\")\n",
    "        \n",
    "def summarize_data(filename, display_type):\n",
    "    df = pd.read_csv(filename)\n",
    "    mean_x = df[\"x\"].mean()\n",
    "    min_x = df[\"x\"].min()\n",
    "    max_x = df[\"x\"].max()\n",
    "    std_x = df[\"x\"].std()\n",
    "\n",
    "    mean_y = df[\"y\"].mean()\n",
    "    min_y = df[\"y\"].min()\n",
    "    max_y = df[\"y\"].max()\n",
    "    std_y = df[\"y\"].std()\n",
    "    \n",
    "    correlation = df[\"x\"].corr(df['y'])\n",
    "    \n",
    "    if display_type == \"write\":\n",
    "        fh.write('---Summary for file: ' + filename + '---')\n",
    "        fh.write('\\n* X values')\n",
    "        fh.write('\\n. . Mean: ' + str(mean_x))\n",
    "        fh.write('\\n. . Std. Dev: ' + str(std_x))\n",
    "        fh.write('\\n. . Range: ')\n",
    "        fh.write('\\n. . . Min: ' + str(min_x))\n",
    "        fh.write('\\n. . . Max: ' + str(max_x))\n",
    "        fh.write('\\n* Y values')\n",
    "        fh.write('\\n. . Mean: ' + str(mean_y))\n",
    "        fh.write('\\n. . Std. Dev: ' + str(std_y))\n",
    "        fh.write('\\n. . Range: ')\n",
    "        fh.write('\\n. . . Min: ' + str(min_y))\n",
    "        fh.write('\\n. . . Max: ' + str(max_y))\n",
    "        fh.write('\\n* Correlation')\n",
    "        fh.write('\\n. . ' + str(correlation))\n",
    "        fh.write('\\n* Description')\n",
    "        fh.write('\\n.') # manually type a description in the txt file\n",
    "        fh.write('\\n----------------------------------\\n')\n",
    "    elif display_type == \"display\":\n",
    "        print('---Summary for file: ' + filename + '---')\n",
    "        print('* X values')\n",
    "        print('. . Mean: ' + str(mean_x))\n",
    "        print('. . Std. Dev: ' + str(std_x))\n",
    "        print('. . Range: ')\n",
    "        print('. . . Min: ' + str(min_x))\n",
    "        print('. . . Max: ' + str(max_x))\n",
    "        print('* Y values')\n",
    "        print('. . Mean: ' + str(mean_y))\n",
    "        print('. . Std. Dev: ' + str(std_y))\n",
    "        print('. . Range: ')\n",
    "        print('. . . Min: ' + str(min_y))\n",
    "        print('. . . Max: ' + str(max_y))\n",
    "        print('* Correlation')\n",
    "        print('. . ' + str(correlation))\n",
    "        print('----------------------------------')\n"
   ]
  },
  {
   "cell_type": "code",
   "execution_count": 3,
   "metadata": {},
   "outputs": [
    {
     "name": "stdout",
     "output_type": "stream",
     "text": [
      "---Summary for file: data-1.csv---\n",
      "* X values\n",
      ". . Mean: 8.717696186413818\n",
      ". . Std. Dev: 12.155517231222024\n",
      ". . Range: \n",
      ". . . Min: -22.63587779\n",
      ". . . Max: 35.2370554879\n",
      "* Y values\n",
      ". . Mean: 12.522874034702589\n",
      ". . Std. Dev: 6.63996400756785\n",
      ". . Range: \n",
      ". . . Min: -2.56508783269\n",
      ". . . Max: 27.3841526115\n",
      "* Correlation\n",
      ". . 0.950325695438\n",
      "----------------------------------\n"
     ]
    }
   ],
   "source": [
    "summarize_data('data-1.csv', \"display\")"
   ]
  },
  {
   "cell_type": "markdown",
   "metadata": {},
   "source": [
    "For the data in data-1.csv, there is a near linear relationship between X and Y, and Y has a std devation of 6 over a range of ~30 so it's data isn't too spread out."
   ]
  },
  {
   "cell_type": "code",
   "execution_count": 4,
   "metadata": {
    "scrolled": true
   },
   "outputs": [
    {
     "name": "stdout",
     "output_type": "stream",
     "text": [
      "---Summary for file: data-2.csv---\n",
      "* X values\n",
      ". . Mean: -0.7107871267159582\n",
      ". . Std. Dev: 11.481583587790732\n",
      ". . Range: \n",
      ". . . Min: -33.2711130771\n",
      ". . . Max: 27.6470003722\n",
      "* Y values\n",
      ". . Mean: -0.7489869764497992\n",
      ". . Std. Dev: 6.257917998755848\n",
      ". . Range: \n",
      ". . . Min: -18.6218037604\n",
      ". . . Max: 14.1473149923\n",
      "* Correlation\n",
      ". . 0.955153166575\n",
      "----------------------------------\n"
     ]
    }
   ],
   "source": [
    "summarize_data('data-2.csv', \"display\")"
   ]
  },
  {
   "cell_type": "markdown",
   "metadata": {},
   "source": [
    "For the data in data-2.csv, there is a near linear correlation between the two data sets; correlation is almost 1."
   ]
  },
  {
   "cell_type": "code",
   "execution_count": 5,
   "metadata": {},
   "outputs": [
    {
     "name": "stdout",
     "output_type": "stream",
     "text": [
      "---Summary for file: data-3.csv---\n",
      "* X values\n",
      ". . Mean: 0.9689074904200942\n",
      ". . Std. Dev: 2.23555786105797\n",
      ". . Range: \n",
      ". . . Min: -2.44906432967\n",
      ". . . Max: 4.51888491755\n",
      "* Y values\n",
      ". . Mean: 8.50853523664133\n",
      ". . Std. Dev: 1.1493008110024527\n",
      ". . Range: \n",
      ". . . Min: 6.64173449039\n",
      ". . . Max: 10.5518710228\n",
      "* Correlation\n",
      ". . 0.981937264676\n",
      "----------------------------------\n"
     ]
    }
   ],
   "source": [
    "summarize_data('data-3.csv', \"display\")"
   ]
  },
  {
   "cell_type": "markdown",
   "metadata": {},
   "source": [
    "For the data in data-3.csv, there is an almost perfect linear correlation between the data sets, and the Y data set has less spread out data (std dev ~~ 1.2) compared to X (std dev ~~ 2.4)"
   ]
  },
  {
   "cell_type": "code",
   "execution_count": 6,
   "metadata": {},
   "outputs": [
    {
     "name": "stdout",
     "output_type": "stream",
     "text": [
      "---Summary for file: data-4.csv---\n",
      "* X values\n",
      ". . Mean: 49.90508614830509\n",
      ". . Std. Dev: 28.50861051988193\n",
      ". . Range: \n",
      ". . . Min: 0.0\n",
      ". . . Max: 87.3767\n",
      "* Y values\n",
      ". . Mean: 18.55383652542372\n",
      ". . Std. Dev: 16.545896442941686\n",
      ". . Range: \n",
      ". . . Min: 0.0\n",
      ". . . Max: 44.56504\n",
      "* Correlation\n",
      ". . -0.0811930673549\n",
      "----------------------------------\n"
     ]
    }
   ],
   "source": [
    "summarize_data('data-4.csv', \"display\")"
   ]
  },
  {
   "cell_type": "markdown",
   "metadata": {},
   "source": [
    "For the data in data-4.csv, there is little to no correlation between the data sets, even though from the data the X data set looks like it has similar data proportions to Y; the stats (mean, std dev, range) look like Y times 2."
   ]
  },
  {
   "cell_type": "code",
   "execution_count": 7,
   "metadata": {},
   "outputs": [
    {
     "name": "stdout",
     "output_type": "stream",
     "text": [
      "---Summary for file: data-5.csv---\n",
      "* X values\n",
      ". . Mean: 49.90999357843096\n",
      ". . Std. Dev: 28.500000943801368\n",
      ". . Range: \n",
      ". . . Min: 4.33789245367\n",
      ". . . Max: 91.0528633397\n",
      "* Y values\n",
      ". . Mean: 18.55552493772909\n",
      ". . Std. Dev: 16.540796301840782\n",
      ". . Range: \n",
      ". . . Min: 0.0554975075812\n",
      ". . . Max: 49.9341970363\n",
      "* Correlation\n",
      ". . -0.0882359898306\n",
      "----------------------------------\n"
     ]
    }
   ],
   "source": [
    "summarize_data('data-5.csv', \"display\")"
   ]
  },
  {
   "cell_type": "markdown",
   "metadata": {},
   "source": [
    "For the data in data-5.csv, there is little to no correlation between the data sets, and both x and y have large standard deviations compared to their ranges; the data is spread out."
   ]
  },
  {
   "cell_type": "code",
   "execution_count": 8,
   "metadata": {},
   "outputs": [
    {
     "name": "stdout",
     "output_type": "stream",
     "text": [
      "---Summary for file: data-6.csv---\n",
      "* X values\n",
      ". . Mean: 7.2161551796099195\n",
      ". . Std. Dev: 11.921599067458313\n",
      ". . Range: \n",
      ". . . Min: -24.3338207523\n",
      ". . . Max: 35.4021389109\n",
      "* Y values\n",
      ". . Mean: 7.6022150282372944\n",
      ". . Std. Dev: 11.764382455006647\n",
      ". . Range: \n",
      ". . . Min: -22.9563569971\n",
      ". . . Max: 36.0798740308\n",
      "* Correlation\n",
      ". . 0.935068566209\n",
      "----------------------------------\n"
     ]
    }
   ],
   "source": [
    "summarize_data('data-6.csv', \"display\")"
   ]
  },
  {
   "cell_type": "markdown",
   "metadata": {},
   "source": [
    "For the data in data-6.csv, the data shares a near linear correlation, and have similar means, ranges, and standard deviations; the data sets are very simimlar."
   ]
  },
  {
   "cell_type": "code",
   "execution_count": 9,
   "metadata": {
    "collapsed": true
   },
   "outputs": [],
   "source": [
    "write_summary_data()\n",
    "fh.close()"
   ]
  }
 ],
 "metadata": {
  "kernelspec": {
   "display_name": "Python 3",
   "language": "python",
   "name": "python3"
  },
  "language_info": {
   "codemirror_mode": {
    "name": "ipython",
    "version": 3
   },
   "file_extension": ".py",
   "mimetype": "text/x-python",
   "name": "python",
   "nbconvert_exporter": "python",
   "pygments_lexer": "ipython3",
   "version": "3.6.2"
  }
 },
 "nbformat": 4,
 "nbformat_minor": 2
}
