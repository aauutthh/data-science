{
 "cells": [
  {
   "cell_type": "code",
   "execution_count": 1,
   "metadata": {
    "collapsed": true
   },
   "outputs": [],
   "source": [
    "import re\n",
    "import pandas as pd\n",
    "import matplotlib.pyplot as plt\n",
    "from scipy import stats"
   ]
  },
  {
   "cell_type": "code",
   "execution_count": 2,
   "metadata": {
    "collapsed": true
   },
   "outputs": [],
   "source": [
    "# Load the data from the CSV into a DataFrame\n",
    "# Assume a 'dog_rates_tweets.csv' file is in the same folder as the notebook\n",
    "data = pd.read_csv(\"./dog_rates_tweets.csv\")"
   ]
  },
  {
   "cell_type": "code",
   "execution_count": 3,
   "metadata": {
    "collapsed": true
   },
   "outputs": [],
   "source": [
    "# Find tweets that contain an 'n/10' rating (because not all do)\n",
    "def get_rating(tweet):\n",
    "    m = re.findall('(\\d+(\\.\\d+)?)/10', tweet)\n",
    "    if m :\n",
    "        return float(m[0][0])\n",
    "    else :\n",
    "        return \"None\"\n",
    "    \n",
    "# Extract the numeric rating\n",
    "data['rating'] = data['text'].apply(get_rating)\n",
    "\n",
    "# Exclude tweets that don't contain a rating\n",
    "data.drop(data[data.rating == \"None\"].index, inplace=True)"
   ]
  },
  {
   "cell_type": "code",
   "execution_count": 4,
   "metadata": {
    "collapsed": true
   },
   "outputs": [],
   "source": [
    "# Remove outliers: there are a few obvious ones\n",
    "# Exclude rating values that are too large to make sense (Maybe larger than 25/10?)\n",
    "data.drop(data[data.rating > 25].index, inplace=True)"
   ]
  },
  {
   "cell_type": "code",
   "execution_count": 9,
   "metadata": {
    "collapsed": true
   },
   "outputs": [],
   "source": [
    "# Make sure the 'created_at' column is a datetime value, not a string\n",
    "# You can either do this by applying a function that parses the string to a date\n",
    "# OR by asking Pandas' read_csv function to parse dates in that column with a parse_dates argument\n",
    "data['created_at'] = pd.to_datetime(data['created_at'])"
   ]
  },
  {
   "cell_type": "code",
   "execution_count": 43,
   "metadata": {},
   "outputs": [
    {
     "name": "stdout",
     "output_type": "stream",
     "text": [
      "pvalue:  7.79578475263e-77\n"
     ]
    },
    {
     "data": {
      "image/png": "[encoded data removed]",
      "text/plain": [
       "<matplotlib.figure.Figure at 0x7f101e530208>"
      ]
     },
     "metadata": {},
     "output_type": "display_data"
    }
   ],
   "source": [
    "# scipy.stats.linregress function can do a linear regression for us\n",
    "# But it works on numbers, not datetime objects\n",
    "# So create a timestamp column\n",
    "def to_timestamp(datetime):\n",
    "    timestamp = datetime.timestamp()\n",
    "    return timestamp\n",
    "data['timestamp'] = data['created_at'].apply(to_timestamp)\n",
    "\n",
    "# Now use linregress to get a slope and intercept for a best fit line\n",
    "data['rating'] = data['rating'].astype(float)\n",
    "slope, intercept, rvalue, pvalue, _ = stats.linregress(data['timestamp'], data['rating'])\n",
    "\n",
    "print('pvalue: ', pvalue)\n",
    "\n",
    "# Residuals are the observed values minus predicted values\n",
    "data['predicted'] = data.apply(lambda x: slope*x['timestamp'] + intercept, axis=1)\n",
    "data['residuals'] = data['rating'] - data['predicted']\n",
    "\n",
    "# Plot a Histogram of the residuals\n",
    "plt.hist(data['residuals'])\n",
    "plt.show()"
   ]
  },
  {
   "cell_type": "code",
   "execution_count": null,
   "metadata": {
    "collapsed": true
   },
   "outputs": [],
   "source": []
  }
 ],
 "metadata": {
  "kernelspec": {
   "display_name": "Python 3",
   "language": "python",
   "name": "python3"
  },
  "language_info": {
   "codemirror_mode": {
    "name": "ipython",
    "version": 3
   },
   "file_extension": ".py",
   "mimetype": "text/x-python",
   "name": "python",
   "nbconvert_exporter": "python",
   "pygments_lexer": "ipython3",
   "version": "3.6.2"
  }
 },
 "nbformat": 4,
 "nbformat_minor": 2
}
