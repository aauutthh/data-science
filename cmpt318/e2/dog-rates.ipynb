{
 "cells": [
  {
   "cell_type": "code",
   "execution_count": 1,
   "metadata": {
    "collapsed": true
   },
   "outputs": [],
   "source": [
    "import re\n",
    "import pandas as pd\n",
    "import matplotlib.pyplot as plt\n",
    "from scipy import stats"
   ]
  },
  {
   "cell_type": "code",
   "execution_count": 2,
   "metadata": {
    "collapsed": true
   },
   "outputs": [],
   "source": [
    "# Load the data from the CSV into a DataFrame\n",
    "# Assume a 'dog_rates_tweets.csv' file is in the same folder as the notebook\n",
    "data = pd.read_csv(\"./dog_rates_tweets.csv\")"
   ]
  },
  {
   "cell_type": "code",
   "execution_count": 3,
   "metadata": {},
   "outputs": [],
   "source": [
    "# Find tweets that contain an 'n/10' rating (because not all do)\n",
    "def get_rating(tweet):\n",
    "    m = re.findall('(\\d+(\\.\\d+)?)/10', tweet)\n",
    "    if m :\n",
    "        return float(m[0][0])\n",
    "    else :\n",
    "        return \"None\"\n",
    "    \n",
    "# Extract the numeric rating\n",
    "data['rating'] = data['text'].apply(get_rating)\n",
    "\n",
    "# Exclude tweets that don't contain a rating\n",
    "data.drop(data[data.rating == \"None\"].index, inplace=True)"
   ]
  },
  {
   "cell_type": "code",
   "execution_count": 4,
   "metadata": {},
   "outputs": [],
   "source": [
    "# Remove outliers: there are a few obvious ones\n",
    "# Exclude rating values that are too large to make sense (Maybe larger than 25/10?)\n",
    "data.drop(data[data.rating > 25].index, inplace=True)"
   ]
  },
  {
   "cell_type": "code",
   "execution_count": 5,
   "metadata": {},
   "outputs": [],
   "source": [
    "# Make sure the 'created_at' column is a datetime value, not a string\n",
    "# You can either do this by applying a function that parses the string to a date\n",
    "# OR by asking Pandas' read_csv function to parse dates in that column with a parse_dates argument\n",
    "data['created_at'] = pd.to_datetime(data['created_at'])"
   ]
  },
  {
   "cell_type": "code",
   "execution_count": 6,
   "metadata": {},
   "outputs": [
    {
     "data": {
      "text/plain": [
       "(5.8046099235166996e-08, -74.197854981627785)"
      ]
     },
     "execution_count": 6,
     "metadata": {},
     "output_type": "execute_result"
    }
   ],
   "source": [
    "# scipy.stats.linregress function can do a linear regression for us\n",
    "# But it works on numbers, not datetime objects\n",
    "# So create a timestamp column\n",
    "def to_timestamp(datetime):\n",
    "    timestamp = datetime.timestamp()\n",
    "    return timestamp\n",
    "data['timestamp'] = data['created_at'].apply(to_timestamp)\n",
    "\n",
    "# Now use linregress to get a slope and intercept for a best fit line\n",
    "x = data['timestamp']\n",
    "y = data['rating'].values\n",
    "y = y.astype(float)\n",
    "fit = stats.linregress(x, y)"
   ]
  },
  {
   "cell_type": "code",
   "execution_count": null,
   "metadata": {},
   "outputs": [],
   "source": [
    "# Create a scatter plot of date vs rating, so you can see what the data looks like\n",
    "plt.xticks(rotation=25)\n",
    "plt.plot(data['created_at'].values, y, 'b.', alpha=0.5)\n",
    "plt.plot(data['created_at'].values, data['timestamp']*fit.slope + fit.intercept,'r-', linewidth=3)\n",
    "plt.show()"
   ]
  }
 ],
 "metadata": {
  "kernelspec": {
   "display_name": "Python 3",
   "language": "python",
   "name": "python3"
  },
  "language_info": {
   "codemirror_mode": {
    "name": "ipython",
    "version": 3
   },
   "file_extension": ".py",
   "mimetype": "text/x-python",
   "name": "python",
   "nbconvert_exporter": "python",
   "pygments_lexer": "ipython3",
   "version": "3.6.2"
  }
 },
 "nbformat": 4,
 "nbformat_minor": 2
}
